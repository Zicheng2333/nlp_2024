{
 "cells": [
  {
   "cell_type": "code",
   "metadata": {
    "ExecuteTime": {
     "end_time": "2024-10-28T11:49:01.201317Z",
     "start_time": "2024-10-28T11:48:59.950217Z"
    }
   },
   "source": [
    "import torch\n",
    "from examples.dcgan import batch_size\n",
    "from torch import nn\n",
    "import torch.nn.functional as F\n",
    "import matplotlib.pyplot as plt\n",
    "import math"
   ],
   "outputs": [],
   "execution_count": 2
  },
  {
   "cell_type": "markdown",
   "metadata": {},
   "source": [
    "# An Implementation of Transformer [90 points]"
   ]
  },
  {
   "cell_type": "markdown",
   "metadata": {},
   "source": [
    "To help you gain a deeper understanding of the Transformer model, you will need to implement the code for it in this assignment. The framework is provided,  you only need to implement the core parts of the code."
   ]
  },
  {
   "cell_type": "markdown",
   "metadata": {},
   "source": [
    "## Module: MultiHeadAttention [20 points]"
   ]
  },
  {
   "cell_type": "code",
   "metadata": {
    "ExecuteTime": {
     "end_time": "2024-10-28T11:57:22.718940Z",
     "start_time": "2024-10-28T11:57:22.677586Z"
    }
   },
   "source": [
    "class MultiHeadAttention(nn.Module):\n",
    "    def __init__(self, d_model, n_head): #输入特征维度和多头注意力的头数\n",
    "        super().__init__()\n",
    "        self.n_head = n_head\n",
    "        self.w_q = nn.Linear(d_model, d_model) #nn.Linear: input*W^T+b\n",
    "        self.w_k = nn.Linear(d_model, d_model)\n",
    "        self.w_v = nn.Linear(d_model, d_model)\n",
    "        self.w_o = nn.Linear(d_model, d_model) #输出的线性变换层\n",
    "        self.d_k = d_model // n_head #定义每个头的向量维度\n",
    "\n",
    "    def forward(self, q, k, v, mask=None):\n",
    "        batch_size = q.size(0) #输入的q是[batch_size, seq_len, d_model]的\n",
    "        q = self.w_q(q).view(batch_size, -1, self.n_head, self.d_k).transpose(1, 2) \n",
    "        #将q经过线性层wq，重塑为[batch_size, n_head, seq_len, d_k]，以便分配给不同的注意力头\n",
    "        k = self.w_k(k).view(batch_size, -1, self.n_head, self.d_k).transpose(1, 2)\n",
    "        v = self.w_v(v).view(batch_size, -1, self.n_head, self.d_k).transpose(1, 2)\n",
    "\n",
    "        # TODO: Implement your scaled dot-product attention here\n",
    "        scores  = torch.matmul(q,k.transpose(-2,-1)/math.sqrt(self.d_k))#通过q和k的内积计算注意力分数\n",
    "        \n",
    "        if mask is not None:\n",
    "            scores = scores.masked_fill(mask==0, float('-inf'))\n",
    "            \n",
    "        attention = torch.softmax(scores,dim=-1)\n",
    "        out = torch.matmul(attention,v)\n",
    "        out = out.transpose(1,2).contiguous().view(batch_size,-1,self.d_k*self.n_head)\n",
    "        out = self.w_o(out)\n",
    "        # Normally you can choose to keep the attention weights or not\n",
    "        \n",
    "        return out, attention\n",
    "    \n",
    "# Test your MultiHeadAttention here\n",
    "module = MultiHeadAttention(512, 8)\n",
    "x = torch.randn(32, 60, 512)  #batch size， seq len， d model（embedding 维度，需要固定）\n",
    "mask = torch.triu(torch.ones(60, 60), diagonal=1).byte().unsqueeze(0)\n",
    "y, attn = module(x, x, x, mask)\n",
    "print(y.size(), attn.size())\n",
    "# torch.Size([32, 60, 512]) torch.Size([32, 8, 60, 60])"
   ],
   "outputs": [
    {
     "name": "stdout",
     "output_type": "stream",
     "text": [
      "torch.Size([32, 60, 512]) torch.Size([32, 8, 60, 60])\n"
     ]
    }
   ],
   "execution_count": 5
  },
  {
   "cell_type": "markdown",
   "metadata": {},
   "source": [
    "## Module: PositionwiseFeedforward [10 points]"
   ]
  },
  {
   "cell_type": "code",
   "metadata": {
    "ExecuteTime": {
     "end_time": "2024-10-28T12:12:26.764112Z",
     "start_time": "2024-10-28T12:12:26.720430Z"
    }
   },
   "source": [
    "class PositionwiseFeedforward(nn.Module): #在每个token上独立应用前馈神经网络\n",
    "    def __init__(self, d_model, d_ff): #dff是隐藏层的维度\n",
    "        super().__init__()\n",
    "        self.w_1 = nn.Linear(d_model, d_ff)\n",
    "        self.w_2 = nn.Linear(d_ff, d_model)\n",
    "\n",
    "    def forward(self, x):\n",
    "        # TODO: Implement your position-wise feedforward here\n",
    "        # Note: You can choose to add dropout or not, it is not necessary here\n",
    "        # Note: Remember the activate function in the original transformer is ReLU\n",
    "        x = self.w_1(x)\n",
    "        x = torch.relu_(x)\n",
    "        x = self.w_2(x)\n",
    "        \n",
    "        return x\n",
    "    \n",
    "# Test your PositionwiseFeedforward here\n",
    "module = PositionwiseFeedforward(512, 2048)\n",
    "x = torch.randn(32, 60, 512) #batch size， seq len， embedding len\n",
    "y = module(x)\n",
    "print(y.size())\n",
    "#torch.Size([32, 60, 512])"
   ],
   "outputs": [
    {
     "name": "stdout",
     "output_type": "stream",
     "text": [
      "torch.Size([32, 60, 512])\n"
     ]
    }
   ],
   "execution_count": 6
  },
  {
   "cell_type": "markdown",
   "metadata": {},
   "source": [
    "## Module: Positional Encoding and Token Embedding [10 points]"
   ]
  },
  {
   "cell_type": "code",
   "metadata": {
    "ExecuteTime": {
     "end_time": "2024-10-28T12:35:36.994486Z",
     "start_time": "2024-10-28T12:35:36.855840Z"
    }
   },
   "source": [
    "class PositionalEncoding(nn.Module):\n",
    "    def __init__(self, d_model, max_len): #max len决定编码的范围\n",
    "        super().__init__()\n",
    "        self.encoding = nn.Parameter(torch.zeros(max_len, d_model)).requires_grad_(False) #存储位置编码的向量\n",
    "        position = torch.arange(0, max_len).unsqueeze(1).float()\n",
    "        _2i = torch.arange(0, d_model, 2).float() #取出所有偶数索引\n",
    "\n",
    "        # TODO: Implement the positional encoding here\n",
    "        self.encoding[:, 0::2] = torch.sin(position / (10000 ** (_2i / d_model))) \n",
    "        self.encoding[:, 1::2] = torch.cos(position / (10000 ** (_2i / d_model)))\n",
    "\n",
    "    def forward(self, x):\n",
    "        return x + self.encoding[:x.size(1), :]\n",
    "    \n",
    "# Test your PositionalEncoding here\n",
    "module = PositionalEncoding(512, 1000)\n",
    "x = torch.zeros(1, 60, 512)\n",
    "y = module(x).squeeze(0)\n",
    "plt.subplot(1, 2, 1)\n",
    "plt.imshow(y)\n",
    "plt.subplot(1, 2, 2)\n",
    "plt.imshow(y @ y.T)"
   ],
   "outputs": [
    {
     "data": {
      "text/plain": [
       "<matplotlib.image.AxesImage at 0x14c8797e0>"
      ]
     },
     "execution_count": 12,
     "metadata": {},
     "output_type": "execute_result"
    },
    {
     "data": {
      "text/plain": [
       "<Figure size 640x480 with 2 Axes>"
      ],
      "image/png": "[encoded data removed]"
     },
     "metadata": {},
     "output_type": "display_data"
    }
   ],
   "execution_count": 12
  },
  {
   "cell_type": "code",
   "metadata": {
    "ExecuteTime": {
     "end_time": "2024-10-28T12:35:41.245410Z",
     "start_time": "2024-10-28T12:35:41.242935Z"
    }
   },
   "source": [
    "class TransformerEmbedding(nn.Module):\n",
    "    def __init__(self, vocab_size, d_model, max_len):\n",
    "        super().__init__()\n",
    "        self.positional_encoding = PositionalEncoding(d_model, max_len)\n",
    "        self.token_embedding = nn.Embedding(vocab_size, d_model)\n",
    "\n",
    "    def forward(self, x):\n",
    "        return self.positional_encoding(self.token_embedding(x))"
   ],
   "outputs": [],
   "execution_count": 13
  },
  {
   "cell_type": "markdown",
   "metadata": {},
   "source": [
    "# Block: Encoder Layer [10 points]"
   ]
  },
  {
   "cell_type": "code",
   "metadata": {
    "ExecuteTime": {
     "end_time": "2024-10-28T13:10:47.957415Z",
     "start_time": "2024-10-28T13:10:47.898361Z"
    }
   },
   "source": [
    "class EncoderLayer(nn.Module):\n",
    "    def __init__(self, d_model, n_head, d_ff):\n",
    "        super().__init__()\n",
    "        self.self_attn = MultiHeadAttention(d_model, n_head)\n",
    "        self.feed_forward = PositionwiseFeedforward(d_model, d_ff)\n",
    "        self.norm1 = nn.LayerNorm(d_model)\n",
    "        self.norm2 = nn.LayerNorm(d_model)\n",
    "\n",
    "    def forward(self, x, mask=None):\n",
    "        attn_out,_ = self.self_attn(x,x,x,mask)\n",
    "        x = self.norm1(x+attn_out)\n",
    "        ffn_out = self.feed_forward(x)\n",
    "        x = self.norm2(x+ffn_out)\n",
    "        # TODO: Implement your encoder layer here\n",
    "        # Note: The normalization method is Post-Norm in the original transformer\n",
    "\n",
    "        return x\n",
    "    \n",
    "# Test your EncoderLayer here\n",
    "module = EncoderLayer(512, 8, 2048)\n",
    "x = torch.randn(32, 60, 512)\n",
    "mask = torch.triu(torch.ones(60, 60), diagonal=1).byte().unsqueeze(0)\n",
    "y = module(x, mask)\n",
    "print(y.size())\n",
    "#torch.Size([32, 60, 512])"
   ],
   "outputs": [
    {
     "name": "stdout",
     "output_type": "stream",
     "text": [
      "torch.Size([32, 60, 512])\n"
     ]
    }
   ],
   "execution_count": 15
  },
  {
   "cell_type": "markdown",
   "metadata": {},
   "source": [
    "# Block: Decoder Layer [10 points]"
   ]
  },
  {
   "cell_type": "code",
   "metadata": {
    "ExecuteTime": {
     "end_time": "2024-10-28T13:36:26.270321Z",
     "start_time": "2024-10-28T13:36:26.173191Z"
    }
   },
   "source": [
    "class DecoderLayer(nn.Module):\n",
    "    def __init__(self, d_model, n_head, d_ff):\n",
    "        super().__init__()\n",
    "        self.self_attn = MultiHeadAttention(d_model, n_head)\n",
    "        self.cross_attn = MultiHeadAttention(d_model, n_head)\n",
    "        self.feed_forward = PositionwiseFeedforward(d_model, d_ff)\n",
    "        self.norm1 = nn.LayerNorm(d_model)\n",
    "        self.norm2 = nn.LayerNorm(d_model)\n",
    "        self.norm3 = nn.LayerNorm(d_model)\n",
    "\n",
    "    def forward(self, x, enc=None, src_mask=None, tgt_mask=None):\n",
    "        # TODO: Implement your self attention here\n",
    "        attn_out,_ = self.self_attn(x,x,x,src_mask)\n",
    "        x = self.norm1(x+attn_out)\n",
    "        \n",
    "        if enc is not None:\n",
    "            cro_attn,_ = self.cross_attn(x,enc,enc,tgt_mask)\n",
    "            x = self.norm2(x+cro_attn)\n",
    "        \n",
    "        ffn_out = self.feed_forward(x)\n",
    "        x = self.norm3(x+ffn_out)\n",
    "\n",
    "        return x\n",
    "    \n",
    "# Test your DecoderLayer here\n",
    "module = DecoderLayer(512, 8, 2048)\n",
    "x = torch.randn(32, 60, 512)\n",
    "enc = torch.randn(32, 60, 512)\n",
    "src_mask = torch.triu(torch.ones(60, 60), diagonal=1).byte().unsqueeze(0)\n",
    "y = module(x, enc, src_mask)\n",
    "print(y.size())"
   ],
   "outputs": [
    {
     "name": "stdout",
     "output_type": "stream",
     "text": [
      "torch.Size([32, 60, 512])\n"
     ]
    }
   ],
   "execution_count": 16
  },
  {
   "cell_type": "markdown",
   "metadata": {},
   "source": [
    "# Model: Encoder and Decoder"
   ]
  },
  {
   "cell_type": "code",
   "metadata": {
    "ExecuteTime": {
     "end_time": "2024-10-28T13:38:09.236821Z",
     "start_time": "2024-10-28T13:38:09.231081Z"
    }
   },
   "source": [
    "class Encoder(nn.Module):\n",
    "    def __init__(self, encoder_vocab_size, max_len, d_model, ffn_hidden, n_head, n_layers):\n",
    "        super().__init__()\n",
    "        self.embedding = TransformerEmbedding(encoder_vocab_size, d_model, max_len)\n",
    "        self.layers = nn.ModuleList([EncoderLayer(d_model, n_head, ffn_hidden) for _ in range(n_layers)]) #n layers可以控制编码器的深度\n",
    "\n",
    "    def forward(self, x, mask=None):\n",
    "        x = self.embedding(x)\n",
    "        for layer in self.layers:\n",
    "            x = layer(x, mask)\n",
    "        return x\n",
    "    \n",
    "class Decoder(nn.Module):\n",
    "    def __init__(self, decoder_vocab_size, max_len, d_model, ffn_hidden, n_head, n_layers):\n",
    "        super().__init__()\n",
    "        self.embedding = TransformerEmbedding(decoder_vocab_size, d_model, max_len)\n",
    "        self.layers = nn.ModuleList([DecoderLayer(d_model, n_head, ffn_hidden) for _ in range(n_layers)])\n",
    "        self.out = nn.Linear(d_model, decoder_vocab_size)\n",
    "\n",
    "    def forward(self, x, enc, src_mask=None, tgt_mask=None):\n",
    "        x = self.embedding(x)\n",
    "        for layer in self.layers:\n",
    "            x = layer(x, enc, src_mask, tgt_mask)\n",
    "        return self.out(x)"
   ],
   "outputs": [],
   "execution_count": 18
  },
  {
   "cell_type": "markdown",
   "metadata": {},
   "source": [
    "# Model: Transformer [30 points]"
   ]
  },
  {
   "cell_type": "code",
   "metadata": {
    "ExecuteTime": {
     "end_time": "2024-10-28T13:49:52.335688Z",
     "start_time": "2024-10-28T13:49:51.607381Z"
    }
   },
   "source": [
    "class Transformer(nn.Module):\n",
    "    def __init__(self, encoder_vocab_size, decoder_vocab_size, max_len, \n",
    "                 d_model, ffn_hidden, n_head, n_layers, src_pad_idx, tgt_pad_idx):\n",
    "        super().__init__()\n",
    "        self.encoder = Encoder(encoder_vocab_size, max_len, d_model, ffn_hidden, n_head, n_layers)\n",
    "        self.decoder = Decoder(decoder_vocab_size, max_len, d_model, ffn_hidden, n_head, n_layers)\n",
    "        self.src_pad_idx = src_pad_idx\n",
    "        self.tgt_pad_idx = tgt_pad_idx #用于标注填充位置的索引，帮助掩码生成\n",
    "\n",
    "    def make_src_mask(self, src):\n",
    "        # TODO: Implement the source mask here\n",
    "        src_mask = (src!=self.src_pad_idx).unsqueeze(1).unsqueeze(2)\n",
    "        \n",
    "        return src_mask\n",
    "    \n",
    "    def make_tgt_mask(self, tgt):\n",
    "        # TODO: Implement the target mask here\n",
    "        # Note: The target mask is a causal mask\n",
    "        tgt_seq_len = tgt.size(1)\n",
    "        tgt_mask = torch.tril(torch.ones((tgt_seq_len, tgt_seq_len), device=tgt.device)).bool()\n",
    "        tgt_mask = tgt_mask.unsqueeze(0).unsqueeze(1)\n",
    "\n",
    "        return tgt_mask\n",
    "    \n",
    "    def forward(self, src, tgt):\n",
    "        src_mask = self.make_src_mask(src)\n",
    "        tgt_mask = self.make_tgt_mask(tgt)\n",
    "        enc = self.encoder(src, src_mask)\n",
    "        out = self.decoder(tgt, enc, src_mask, tgt_mask)\n",
    "        return out\n",
    "    \n",
    "# Test your Transformer here\n",
    "model = Transformer(100, 100, 60, 512, 2048, 8, 6, 0, 0)\n",
    "src = torch.randint(1, 100, (32, 60))\n",
    "tgt = torch.randint(1, 100, (32, 60))\n",
    "out = model(src, tgt)\n",
    "print(out.size())\n",
    "#torch.Size([32, 60, 100])\n"
   ],
   "outputs": [
    {
     "name": "stdout",
     "output_type": "stream",
     "text": [
      "torch.Size([32, 60, 100])\n"
     ]
    }
   ],
   "execution_count": 19
  },
  {
   "cell_type": "markdown",
   "metadata": {},
   "source": [
    "### Congratulations! You have gained a deeper understanding of the Transformer model"
   ]
  },
  {
   "cell_type": "markdown",
   "metadata": {},
   "source": [
    "# Go Deeper [10 points]"
   ]
  },
  {
   "cell_type": "markdown",
   "metadata": {},
   "source": [
    "To augment your understanding of cutting-edge frameworks, you are required to implement one of the following structures:\n",
    "\n",
    "- RMSNorm [eazy]\n",
    "- Gated Linear Unit (e.g. SwiGLU, GeGLU) [eazy]\n",
    "- Multi-Query Attention [normal]\n",
    "- Group-Query Attention [normal]\n",
    "- Rotary Position Embedding [hard]\n",
    "- Multi-Head Latent Attention [hard]\n",
    "- Mixture-of-Expert [hard]"
   ]
  },
  {
   "cell_type": "markdown",
   "metadata": {},
   "source": [
    "## Module: Your Module Here"
   ]
  },
  {
   "cell_type": "code",
   "metadata": {
    "ExecuteTime": {
     "end_time": "2024-10-28T14:27:59.500002Z",
     "start_time": "2024-10-28T14:27:59.465524Z"
    }
   },
   "source": [
    "# Implementation of your module\n",
    "class MultiQueryAttention(nn.Module):\n",
    "    def __init__(self,d_model,n_head):\n",
    "        super().__init__()\n",
    "        self.n_head = n_head\n",
    "        self.d_k = d_model//n_head\n",
    "        self.d_model = d_model\n",
    "        self.w_q = nn.Linear(d_model,d_model)\n",
    "        \n",
    "        self.w_k = nn.Linear(d_model,self.d_k)\n",
    "        self.w_v = nn.Linear(d_model,self.d_k)\n",
    "        \n",
    "        self.w_o = nn.Linear(d_model,d_model)\n",
    "    \n",
    "    def forward(self,q,k,v,mask=None):\n",
    "        batch_size = q.size(0)\n",
    "        q = self.w_q(q).view(batch_size,-1,self.n_head,self.d_k).transpose(1,2)\n",
    "        \n",
    "        k = self.w_k(k).unsqueeze(1)\n",
    "        v = self.w_v(v).unsqueeze(1)\n",
    "        scores = torch.matmul(q,k.transpose(-2,-1)/math.sqrt(self.d_k))\n",
    "        \n",
    "        if mask is not None:\n",
    "            scores = scores.masked_fill(mask==0, float('-inf'))\n",
    "        \n",
    "        attention = torch.softmax(scores,dim = -1)\n",
    "        \n",
    "        out = torch.matmul(attention, v)\n",
    "        out = out.transpose(1, 2).contiguous().view(batch_size, -1, self.d_model)  # [batch_size, seq_len, d_model]\n",
    "        out = self.w_o(out)\n",
    "        return out, attention\n",
    "    \n",
    "module = MultiQueryAttention(512, 8)\n",
    "x = torch.randn(32, 60, 512)  #batch size， seq len， d model\n",
    "mask = torch.triu(torch.ones(60, 60), diagonal=1).byte().unsqueeze(0)\n",
    "y, attn = module(x, x, x, mask)\n",
    "print(y.size(), attn.size())\n",
    "        "
   ],
   "outputs": [
    {
     "name": "stdout",
     "output_type": "stream",
     "text": [
      "torch.Size([32, 60, 512]) torch.Size([32, 8, 60, 60])\n"
     ]
    }
   ],
   "execution_count": 24
  },
  {
   "metadata": {},
   "cell_type": "code",
   "outputs": [],
   "execution_count": null,
   "source": ""
  }
 ],
 "metadata": {
  "kernelspec": {
   "display_name": "base",
   "language": "python",
   "name": "python3"
  },
  "language_info": {
   "codemirror_mode": {
    "name": "ipython",
    "version": 3
   },
   "file_extension": ".py",
   "mimetype": "text/x-python",
   "name": "python",
   "nbconvert_exporter": "python",
   "pygments_lexer": "ipython3",
   "version": "3.12.7"
  }
 },
 "nbformat": 4,
 "nbformat_minor": 2
}
